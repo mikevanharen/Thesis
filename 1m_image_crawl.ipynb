{
 "cells": [
  {
   "cell_type": "code",
   "execution_count": null,
   "metadata": {},
   "outputs": [],
   "source": [
    "import csv\n",
    "import urllib.parse\n",
    "import urllib.request\n",
    "from bs4 import BeautifulSoup"
   ]
  },
  {
   "cell_type": "code",
   "execution_count": null,
   "metadata": {
    "scrolled": true
   },
   "outputs": [],
   "source": [
    "counter = 0\n",
    "missing_movies = []\n",
    "# These row names are weird, because some movies have a ':' in their title.\n",
    "row_names = ['movie_id', 'blank', 'movie_title','blank2', 'genres', 'genres2']\n",
    "\n",
    "with open('movies.txt', 'r', encoding = \"ISO-8859-1\") as f:\n",
    "    reader = csv.DictReader(f, fieldnames=row_names, delimiter=':')\n",
    "    for row in reader:\n",
    "        movie_id = row['movie_id']\n",
    "        movie_title = row['movie_title']\n",
    "        \n",
    "        genres = list(row['genres'].split(\"|\"))\n",
    "        if genres == ['']:\n",
    "          genres = list(row['genres2'].split(\"|\"))\n",
    "        \n",
    "        domain = 'http://www.imdb.com'\n",
    "        search_url = domain + '/find?q=' + urllib.parse.quote_plus(movie_title)\n",
    "        with urllib.request.urlopen(search_url) as response:\n",
    "            html = response.read()\n",
    "            soup = BeautifulSoup(html, 'html.parser')\n",
    "            # Get url of 1st search result\n",
    "            try:\n",
    "                title = soup.find('table', class_='findList').tr.a['href']\n",
    "                movie_url = domain + title\n",
    "                with open('movie_url.csv', 'a', newline='') as out_csv:\n",
    "                    writer = csv.writer(out_csv, delimiter=',')\n",
    "                    writer.writerow([movie_id, movie_url, genres])\n",
    "            # Ignore cases where search returns no results\n",
    "            # Save them, for gathering them manually later\n",
    "            except AttributeError:\n",
    "                print(\"Movie not found: \" + movie_id)\n",
    "                missing_movies1.append(movie_id)\n",
    "                counter += 1\n",
    "                \n",
    "print(\"Missing movies:\", counter)\n",
    "print(\"Done\")"
   ]
  },
  {
   "cell_type": "code",
   "execution_count": null,
   "metadata": {
    "scrolled": true
   },
   "outputs": [],
   "source": [
    "counter = 0\n",
    "missing_posters = []\n",
    "row_names = ['movie_id', 'movie_url', 'genres']\n",
    "\n",
    "with open('movie_url.csv', 'r', newline='') as in_csv:\n",
    "    reader = csv.DictReader(in_csv, fieldnames=row_names, delimiter=',')\n",
    "    for row in reader:\n",
    "        movie_id = row['movie_id']\n",
    "        movie_url = row['movie_url']\n",
    "        \n",
    "        # Filter out the square brackets, space, and single and double quotes\n",
    "        my_table = row['genres'].maketrans('','','[] \\'\"')\n",
    "        genres = list(row['genres'].translate(my_table).split(','))  \n",
    "        \n",
    "        domain = 'http://www.imdb.com'\n",
    "        with urllib.request.urlopen(movie_url) as response:\n",
    "            html = response.read()\n",
    "            soup = BeautifulSoup(html, 'html.parser')\n",
    "            # Get url of poster image\n",
    "            try:\n",
    "                image_url = soup.find('div', class_='poster').a.img['src']\n",
    "                extension = '.jpg'\n",
    "                image_url = ''.join(image_url.partition('_')[0]) + extension\n",
    "                \n",
    "#                 # By doing this you can split the images in folders per genre.\n",
    "#                 for genre in genres:\n",
    "#                     filename = 'movies_data/' + genre + '/' + movie_id + extension\n",
    "#                     with urllib.request.urlopen(image_url) as response:\n",
    "#                         with open(filename, 'wb') as out_image:\n",
    "#                             out_image.write(response.read())\n",
    "                \n",
    "                # By doing this, you put all the images in the same folder\n",
    "                filename = 'movies_data_split/' + movie_id + extension\n",
    "                with urllib.request.urlopen(image_url) as response:\n",
    "                    with open(filename, 'wb') as out_image:\n",
    "                        out_image.write(response.read())\n",
    "                        \n",
    "                with open('movie_poster.csv', 'a', newline='') as out_csv:\n",
    "                    writer = csv.writer(out_csv, delimiter=',')\n",
    "                    writer.writerow([movie_id, image_url])\n",
    "                    \n",
    "            # Ignore cases where no poster image is present\n",
    "            # Save them, for gathering them manually later\n",
    "            except AttributeError:\n",
    "                print(\"Missing poster: \" + movie_id)\n",
    "                missing_posters.append(movie_id)\n",
    "                counter += 1\n",
    "\n",
    "print(\"Missing posters:\", counter)\n",
    "print(\"Done\")"
   ]
  }
 ],
 "metadata": {
  "kernelspec": {
   "display_name": "Python 3",
   "language": "python",
   "name": "python3"
  },
  "language_info": {
   "codemirror_mode": {
    "name": "ipython",
    "version": 3
   },
   "file_extension": ".py",
   "mimetype": "text/x-python",
   "name": "python",
   "nbconvert_exporter": "python",
   "pygments_lexer": "ipython3",
   "version": "3.7.3"
  }
 },
 "nbformat": 4,
 "nbformat_minor": 2
}
