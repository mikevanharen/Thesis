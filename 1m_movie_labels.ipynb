{
 "cells": [
  {
   "cell_type": "code",
   "execution_count": 1,
   "metadata": {},
   "outputs": [],
   "source": [
    "import csv\n",
    "import urllib.parse\n",
    "import urllib.request\n",
    "from bs4 import BeautifulSoup"
   ]
  },
  {
   "cell_type": "code",
   "execution_count": 2,
   "metadata": {},
   "outputs": [],
   "source": [
    "counter = 0\n",
    "missing_movies = []\n",
    "genre_dict = {'Action':0, 'Adventure':1, 'Animation':2, 'Children\\'s':2, 'Comedy':3, 'Crime':4, \n",
    "              'Documentary':5, 'Drama':6, 'Fantasy':7, 'Film-Noir':8, 'Horror':9, 'Musical':10, \n",
    "              'Mystery':11, 'Romance':12, 'Sci-Fi':7, 'Thriller':9, 'War':13, 'Western':14}"
   ]
  },
  {
   "cell_type": "code",
   "execution_count": 3,
   "metadata": {},
   "outputs": [
    {
     "name": "stdout",
     "output_type": "stream",
     "text": [
      "Done\n"
     ]
    }
   ],
   "source": [
    "row_names = ['movie_id', 'blank', 'movie_title','blank2', 'genres', 'genres2']\n",
    "with open('movies.txt', 'r', encoding = \"ISO-8859-1\") as f:\n",
    "    reader = csv.DictReader(f, fieldnames=row_names, delimiter=':')\n",
    "    for row in reader:\n",
    "        movie_id = row['movie_id']\n",
    "        genre_array = [0,0,0,0,0,0,0,0,0,0,0,0,0,0,0]\n",
    "        \n",
    "        genres = list(row['genres'].split(\"|\"))\n",
    "        if genres == ['']:\n",
    "          genres = list(row['genres2'].split(\"|\"))\n",
    "        \n",
    "        for genre in genres:\n",
    "            index = genre_dict[genre]\n",
    "            genre_array[index] = 1\n",
    "            \n",
    "        with open('movie_labels.csv', 'a', newline='') as out_csv:\n",
    "                    writer = csv.writer(out_csv, delimiter=',')\n",
    "                    writer.writerow([movie_id, genre_array])\n",
    "print(\"Done\")"
   ]
  }
 ],
 "metadata": {
  "kernelspec": {
   "display_name": "Python 3",
   "language": "python",
   "name": "python3"
  },
  "language_info": {
   "codemirror_mode": {
    "name": "ipython",
    "version": 3
   },
   "file_extension": ".py",
   "mimetype": "text/x-python",
   "name": "python",
   "nbconvert_exporter": "python",
   "pygments_lexer": "ipython3",
   "version": "3.7.3"
  }
 },
 "nbformat": 4,
 "nbformat_minor": 2
}
