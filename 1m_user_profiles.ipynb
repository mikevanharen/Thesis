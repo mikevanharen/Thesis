{
 "cells": [
  {
   "cell_type": "code",
   "execution_count": 2,
   "metadata": {},
   "outputs": [],
   "source": [
    "import csv\n",
    "import urllib.parse\n",
    "import urllib.request\n",
    "from bs4 import BeautifulSoup"
   ]
  },
  {
   "cell_type": "code",
   "execution_count": 3,
   "metadata": {},
   "outputs": [
    {
     "name": "stdout",
     "output_type": "stream",
     "text": [
      "Done\n"
     ]
    }
   ],
   "source": [
    "# Get all the movie ratings for every user\n",
    "user_profile = {1:[]}\n",
    "row_names = ['user_id', 'blank1', 'movie_id', 'blank2', 'rating']\n",
    "with open('ratings.txt', 'r', encoding = \"ISO-8859-1\") as f:\n",
    "    reader = csv.DictReader(f, fieldnames=row_names, delimiter=':')\n",
    "    for row in reader:\n",
    "        user_id  = int(row['user_id'])\n",
    "        movie_id = int(row['movie_id'])\n",
    "        rating   = float(row['rating'])\n",
    "        threshold = 3\n",
    "        \n",
    "        if (rating >= threshold):\n",
    "            # Get the list of movies for this user_id, or make the empty list if there is no list yet.\n",
    "            movie_list = user_profile.setdefault(user_id, [])\n",
    "            movie_list.append(movie_id)\n",
    "            user_profile.update({user_id:movie_list})\n",
    "        \n",
    "    # Loop over all the user profiles to put the user_id,movie_id in a csv file    \n",
    "    for user in user_profile.keys():\n",
    "        user_id = user\n",
    "        movie_profile = user_profile[user_id]\n",
    "        try:\n",
    "            with open('user_profiles.csv', 'a', newline='') as out_csv:\n",
    "                writer = csv.writer(out_csv, delimiter=',',)\n",
    "                writer.writerow([user_id, movie_profile])\n",
    "        # Ignore cases where search returns no results\n",
    "        except AttributeError:\n",
    "            pass\n",
    "print(\"Done\")"
   ]
  }
 ],
 "metadata": {
  "kernelspec": {
   "display_name": "Python 3",
   "language": "python",
   "name": "python3"
  },
  "language_info": {
   "codemirror_mode": {
    "name": "ipython",
    "version": 3
   },
   "file_extension": ".py",
   "mimetype": "text/x-python",
   "name": "python",
   "nbconvert_exporter": "python",
   "pygments_lexer": "ipython3",
   "version": "3.7.3"
  }
 },
 "nbformat": 4,
 "nbformat_minor": 2
}
